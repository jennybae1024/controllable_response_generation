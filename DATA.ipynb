{
 "cells": [
  {
   "cell_type": "code",
   "execution_count": 1,
   "id": "31ca0fef",
   "metadata": {},
   "outputs": [],
   "source": [
    "import os, json, pickle, math\n",
    "import pandas as pd\n",
    "import numpy as np\n",
    "from collections import defaultdict"
   ]
  },
  {
   "cell_type": "markdown",
   "id": "f2807d06",
   "metadata": {},
   "source": [
    "## Question asking response ratio"
   ]
  },
  {
   "cell_type": "code",
   "execution_count": 2,
   "id": "47a5faf7",
   "metadata": {},
   "outputs": [],
   "source": [
    "total_cnt, cnt = 0, 0\n",
    "\n",
    "for split in [\"train\", \"valid\", \"test\"]:\n",
    "    raw = json.load(open(f'./data/msc_dialogue/session_1/{split}.json'))\n",
    "    for dial in raw:\n",
    "        for utt in dial[\"utterances\"]:\n",
    "            if utt[\"id\"] == \"Speaker 2\":\n",
    "                total_cnt += 1\n",
    "                if \"?\" in utt[\"text\"].strip():\n",
    "                    cnt += 1                "
   ]
  },
  {
   "cell_type": "code",
   "execution_count": 3,
   "id": "31a8617c",
   "metadata": {},
   "outputs": [
    {
     "name": "stdout",
     "output_type": "stream",
     "text": [
      "0.3007824069503406\n"
     ]
    }
   ],
   "source": [
    "PROB_BUCKET_GIVEN_QN = cnt/total_cnt\n",
    "print(PROB_BUCKET_GIVEN_QN)"
   ]
  },
  {
   "cell_type": "code",
   "execution_count": null,
   "id": "e7fa46ea",
   "metadata": {},
   "outputs": [],
   "source": []
  },
  {
   "cell_type": "markdown",
   "id": "9a4ccddd",
   "metadata": {},
   "source": [
    "# is_question"
   ]
  },
  {
   "cell_type": "code",
   "execution_count": 4,
   "id": "4357742e",
   "metadata": {},
   "outputs": [],
   "source": [
    "spk_dict = defaultdict(lambda: \"<user>\")\n",
    "spk_dict[\"Speaker 2\"] = \"<agent>\""
   ]
  },
  {
   "cell_type": "code",
   "execution_count": 5,
   "id": "daf18cda",
   "metadata": {},
   "outputs": [],
   "source": [
    "# defined at controllable_generation code (See, Abigail, et al. 2019)\n",
    "\n",
    "def get_qn_bucket_probs(buck_num=10):\n",
    "    \"\"\"\n",
    "    Assuming we have 11 CT question buckets (0 to 10), compute P(bucket|question=1) and\n",
    "    P(bucket|question=0); this is needed so we can probabilistically assign incoming\n",
    "    training examples to buckets.\n",
    "\n",
    "    Returns:\n",
    "      prob_bucket_given_qn: list of floats length 11; P(bucket|question=1)\n",
    "      prob_bucket_given_notqn: list of floats length 11; P(bucket|question=0)\n",
    "    \"\"\"\n",
    "    prob_qn = cnt/total_cnt  # P(question=1), computed across ConvAI2 dataset. ~31%\n",
    "\n",
    "    # Compute P(bucket), i.e. the total sizes of the buckets.\n",
    "    # This is done by assuming that buckets 1 to 10 are equal in size, but bucket 0\n",
    "    # is larger because we have more non-questions than questions. Therefore:\n",
    "    # P(question=1) = P(bucket=1, question=1) + ... + P(bucket=10, question=1)\n",
    "    #               = prob_bucket_n * 0.1 + ... + prob_bucket_n * 1\n",
    "    #               = 5.5 * prob_bucket_n\n",
    "    # Thus we can derive the value for prob_bucket_n and prob_bucket_0:\n",
    "    total_prob = (buck_num+1)/2\n",
    "    prob_bucket_n = prob_qn / total_prob  # P(bucket=n) for n=1,...,10\n",
    "    prob_bucket_0 = 1 - buck_num * prob_bucket_n  # P(bucket=0)\n",
    "    prob_bucket = [prob_bucket_0] + [prob_bucket_n] * buck_num  # list length 11, P(bucket)\n",
    "\n",
    "    # Compute P(bucket|qn=1) and P(bucket|qn=0) using Bayes Rule:\n",
    "    # P(bucket|qn=1) = P(bucket) * P(qn=1|bucket) / P(qn=1)\n",
    "    # P(bucket|qn=0) = P(bucket) * P(qn=0|bucket) / P(qn=0)\n",
    "    prob_bucket_given_qn = [pb * (i / buck_num) / prob_qn for i, pb in enumerate(prob_bucket)]\n",
    "    prob_bucket_given_notqn = [\n",
    "        pb * ((buck_num - i) / buck_num) / (1 - prob_qn) for i, pb in enumerate(prob_bucket)\n",
    "    ]\n",
    "\n",
    "    return prob_bucket_given_qn, prob_bucket_given_notqn\n",
    "\n",
    "def set_bucket(ctrl, ctrl_val, num_buckets):\n",
    "    if ctrl == \"question\":\n",
    "        is_qn = bool(ctrl_val == 1)\n",
    "        if is_qn:  # Sample from P(bucket|qn=1)\n",
    "            out = np.random.choice(range(num_buckets), 1, p=PROB_BUCKET_GIVEN_QN)\n",
    "        else:  # Sample from P(bucket|qn=0)\n",
    "            out = np.random.choice(range(num_buckets), 1, p=PROB_BUCKET_GIVEN_NOTQN)\n",
    "        out = int(out[0])\n",
    "    return out"
   ]
  },
  {
   "cell_type": "markdown",
   "id": "a18e19dd",
   "metadata": {},
   "source": [
    "# Set bucket number"
   ]
  },
  {
   "cell_type": "code",
   "execution_count": 6,
   "id": "835efa17",
   "metadata": {},
   "outputs": [],
   "source": [
    "buck_num=10\n",
    "PROB_BUCKET_GIVEN_QN, PROB_BUCKET_GIVEN_NOTQN = get_qn_bucket_probs(buck_num)"
   ]
  },
  {
   "cell_type": "code",
   "execution_count": 7,
   "id": "7693285f",
   "metadata": {},
   "outputs": [
    {
     "data": {
      "text/plain": [
       "[0.0, 0.018, 0.036, 0.055, 0.073, 0.091, 0.109, 0.127, 0.145, 0.164, 0.182]"
      ]
     },
     "execution_count": 7,
     "metadata": {},
     "output_type": "execute_result"
    }
   ],
   "source": [
    "[round(ele, 3) for ele in PROB_BUCKET_GIVEN_QN]"
   ]
  },
  {
   "cell_type": "code",
   "execution_count": 8,
   "id": "92aea0f5",
   "metadata": {},
   "outputs": [],
   "source": [
    "def generate_sessN_dataset(sess, split):\n",
    "    if sess == \"session_1\":\n",
    "        utt_key = \"utterances\"\n",
    "        raw_js = json.load(open(f'./data/msc_dialogue/{sess}/{split}.json'))\n",
    "    else:\n",
    "        utt_key = \"dialog\"\n",
    "        raw_js = []\n",
    "        with open(f'./data/msc_dialogue/{sess}/{split}.txt') as f:\n",
    "            for line in f:\n",
    "                if line is not None:\n",
    "                    raw_js.append(json.loads(line))\n",
    "                \n",
    "    datasets = []\n",
    "    for id_ele, ele in enumerate(raw_js):\n",
    "        if sess == \"session_1\":\n",
    "            user_prof = \" \".join([clean_dot(ee) for ee in ele[\"personas\"][0] if len(ee)>1])\n",
    "            agent_prof = \" \".join([clean_dot(ee) for ee in ele[\"personas\"][1] if len(ee)>1])\n",
    "        else:\n",
    "            user_prof = \" \".join([clean_dot(ee) for prev in ele[\"previous_dialogs\"] for ee in prev[\"personas\"][0] if len(ee)>1])\n",
    "            agent_prof = \" \".join([clean_dot(ee) for prev in ele[\"previous_dialogs\"] for ee in prev[\"personas\"][1] if len(ee)>1])\n",
    "        if len(user_prof) < 1:\n",
    "            user_prof = \".\"\n",
    "        if len(agent_prof) < 1:\n",
    "            agent_prof = \".\"\n",
    "            \n",
    "        for id_utt in range(1, len(ele[utt_key]), 2):\n",
    "            history = [\" \".join([spk_dict[utt[\"id\"]], utt[\"text\"]]) for utt in ele[utt_key][:id_utt]]\n",
    "            history = \" \".join(history)\n",
    "            response = ele[utt_key][id_utt][\"text\"]\n",
    "            is_qn =  \"?\" in response\n",
    "            is_qn_buck = set_bucket(\"question\", is_qn,  buck_num+1)\n",
    "            \n",
    "            datasets.append({\"session\": sess,\n",
    "                             \"history\": history,\n",
    "                            \"user_persona\": user_prof,\n",
    "                            \"agent_persona\": agent_prof,\n",
    "                            \"response\": response,\n",
    "                            \"is_qn\": is_qn,\n",
    "                            \"is_qn_buck\": is_qn_buck})\n",
    "    return datasets"
   ]
  },
  {
   "cell_type": "code",
   "execution_count": 9,
   "id": "44942af6",
   "metadata": {},
   "outputs": [],
   "source": [
    "def clean_dot(ee):\n",
    "    if ee[-1] == \".\" and ee[-2] != \" \":\n",
    "        ee = ee[:-1] + \" .\"\n",
    "    elif ee[-1] == \"!\" and ee[-2] != \" \":\n",
    "        ee = ee[:-1] + \" !\"\n",
    "    elif ee[-1] == \"?\" and ee[-2] != \" \":\n",
    "        ee = ee[:-1] + \" ?\"\n",
    "        \n",
    "    return ee"
   ]
  },
  {
   "cell_type": "code",
   "execution_count": 10,
   "id": "44e82a40",
   "metadata": {},
   "outputs": [],
   "source": [
    "sessN = {}\n",
    "for sess_num in range(1,5):\n",
    "    sess = f\"session_{sess_num}\"\n",
    "    sessN[sess] = {}\n",
    "    for split in [\"train\", \"valid\", \"test\"]:\n",
    "        sessN[sess][split] = pd.DataFrame(generate_sessN_dataset(sess, split))"
   ]
  },
  {
   "cell_type": "code",
   "execution_count": 11,
   "id": "8ae240c3",
   "metadata": {},
   "outputs": [],
   "source": [
    "df_all = {}\n",
    "df_all[\"train\"] = sessN[\"session_1\"][\"train\"]\n",
    "df_all[\"valid\"] = sessN[\"session_1\"][\"valid\"]\n",
    "df_all[\"test\"] = sessN[\"session_1\"][\"test\"]\n",
    "\n",
    "for sess in sessN:\n",
    "    if sess != \"session_1\":\n",
    "        train_df = pd.concat([df_all[\"train\"], sessN[sess][\"train\"]])\n",
    "        valid_df = pd.concat([df_all[\"valid\"], sessN[sess][\"valid\"]])\n",
    "        test_df = pd.concat([df_all[\"test\"], sessN[sess][\"test\"]])"
   ]
  },
  {
   "cell_type": "code",
   "execution_count": 12,
   "id": "42541e92",
   "metadata": {},
   "outputs": [
    {
     "data": {
      "text/html": [
       "<div>\n",
       "<style scoped>\n",
       "    .dataframe tbody tr th:only-of-type {\n",
       "        vertical-align: middle;\n",
       "    }\n",
       "\n",
       "    .dataframe tbody tr th {\n",
       "        vertical-align: top;\n",
       "    }\n",
       "\n",
       "    .dataframe thead th {\n",
       "        text-align: right;\n",
       "    }\n",
       "</style>\n",
       "<table border=\"1\" class=\"dataframe\">\n",
       "  <thead>\n",
       "    <tr style=\"text-align: right;\">\n",
       "      <th></th>\n",
       "      <th>session</th>\n",
       "      <th>history</th>\n",
       "      <th>user_persona</th>\n",
       "      <th>agent_persona</th>\n",
       "      <th>response</th>\n",
       "      <th>is_qn</th>\n",
       "      <th>is_qn_buck</th>\n",
       "    </tr>\n",
       "  </thead>\n",
       "  <tbody>\n",
       "    <tr>\n",
       "      <th>0</th>\n",
       "      <td>session_1</td>\n",
       "      <td>&lt;user&gt; hi , how are you doing ? i am getting r...</td>\n",
       "      <td>i like canning and whittling . to stay in shap...</td>\n",
       "      <td>i like to remodel homes . i like to go hunting...</td>\n",
       "      <td>you must be very fast . hunting is one of my f...</td>\n",
       "      <td>False</td>\n",
       "      <td>4</td>\n",
       "    </tr>\n",
       "    <tr>\n",
       "      <th>1</th>\n",
       "      <td>session_1</td>\n",
       "      <td>&lt;user&gt; hi , how are you doing ? i am getting r...</td>\n",
       "      <td>i like canning and whittling . to stay in shap...</td>\n",
       "      <td>i like to remodel homes . i like to go hunting...</td>\n",
       "      <td>i also remodel homes when i am not out bow hun...</td>\n",
       "      <td>False</td>\n",
       "      <td>0</td>\n",
       "    </tr>\n",
       "    <tr>\n",
       "      <th>2</th>\n",
       "      <td>session_1</td>\n",
       "      <td>&lt;user&gt; hi , how are you doing ? i am getting r...</td>\n",
       "      <td>i like canning and whittling . to stay in shap...</td>\n",
       "      <td>i like to remodel homes . i like to go hunting...</td>\n",
       "      <td>that is awesome . do you have a favorite seaso...</td>\n",
       "      <td>True</td>\n",
       "      <td>6</td>\n",
       "    </tr>\n",
       "    <tr>\n",
       "      <th>3</th>\n",
       "      <td>session_1</td>\n",
       "      <td>&lt;user&gt; hi , how are you doing ? i am getting r...</td>\n",
       "      <td>i like canning and whittling . to stay in shap...</td>\n",
       "      <td>i like to remodel homes . i like to go hunting...</td>\n",
       "      <td>what is your favorite meat to eat ?</td>\n",
       "      <td>True</td>\n",
       "      <td>6</td>\n",
       "    </tr>\n",
       "    <tr>\n",
       "      <th>4</th>\n",
       "      <td>session_1</td>\n",
       "      <td>&lt;user&gt; hi , how are you doing ? i am getting r...</td>\n",
       "      <td>i like canning and whittling . to stay in shap...</td>\n",
       "      <td>i like to remodel homes . i like to go hunting...</td>\n",
       "      <td>i like chicken or macaroni and cheese .</td>\n",
       "      <td>False</td>\n",
       "      <td>0</td>\n",
       "    </tr>\n",
       "  </tbody>\n",
       "</table>\n",
       "</div>"
      ],
      "text/plain": [
       "     session                                            history  \\\n",
       "0  session_1  <user> hi , how are you doing ? i am getting r...   \n",
       "1  session_1  <user> hi , how are you doing ? i am getting r...   \n",
       "2  session_1  <user> hi , how are you doing ? i am getting r...   \n",
       "3  session_1  <user> hi , how are you doing ? i am getting r...   \n",
       "4  session_1  <user> hi , how are you doing ? i am getting r...   \n",
       "\n",
       "                                        user_persona  \\\n",
       "0  i like canning and whittling . to stay in shap...   \n",
       "1  i like canning and whittling . to stay in shap...   \n",
       "2  i like canning and whittling . to stay in shap...   \n",
       "3  i like canning and whittling . to stay in shap...   \n",
       "4  i like canning and whittling . to stay in shap...   \n",
       "\n",
       "                                       agent_persona  \\\n",
       "0  i like to remodel homes . i like to go hunting...   \n",
       "1  i like to remodel homes . i like to go hunting...   \n",
       "2  i like to remodel homes . i like to go hunting...   \n",
       "3  i like to remodel homes . i like to go hunting...   \n",
       "4  i like to remodel homes . i like to go hunting...   \n",
       "\n",
       "                                            response  is_qn  is_qn_buck  \n",
       "0  you must be very fast . hunting is one of my f...  False           4  \n",
       "1  i also remodel homes when i am not out bow hun...  False           0  \n",
       "2  that is awesome . do you have a favorite seaso...   True           6  \n",
       "3                what is your favorite meat to eat ?   True           6  \n",
       "4            i like chicken or macaroni and cheese .  False           0  "
      ]
     },
     "execution_count": 12,
     "metadata": {},
     "output_type": "execute_result"
    }
   ],
   "source": [
    "df_all[\"train\"].head()"
   ]
  },
  {
   "cell_type": "code",
   "execution_count": 13,
   "id": "1e90a178",
   "metadata": {},
   "outputs": [
    {
     "data": {
      "text/plain": [
       "<AxesSubplot:xlabel='is_qn_buck', ylabel='count'>"
      ]
     },
     "execution_count": 13,
     "metadata": {},
     "output_type": "execute_result"
    },
    {
     "data": {
      "image/png": "[encoded data removed]",
      "text/plain": [
       "<Figure size 432x288 with 1 Axes>"
      ]
     },
     "metadata": {
      "needs_background": "light"
     },
     "output_type": "display_data"
    }
   ],
   "source": [
    "import seaborn as sns\n",
    "sns.countplot(x=\"is_qn_buck\", data=df_all[\"train\"])"
   ]
  },
  {
   "cell_type": "code",
   "execution_count": null,
   "id": "a0dfcfd4",
   "metadata": {},
   "outputs": [],
   "source": []
  },
  {
   "cell_type": "markdown",
   "id": "5637eda3",
   "metadata": {},
   "source": [
    "# Data removal for reduce imbalance"
   ]
  },
  {
   "cell_type": "code",
   "execution_count": 14,
   "id": "c5b63100",
   "metadata": {},
   "outputs": [],
   "source": [
    "train_df = df_all[\"train\"]\n",
    "valid_df = df_all[\"valid\"]"
   ]
  },
  {
   "cell_type": "code",
   "execution_count": 15,
   "id": "17dc26db",
   "metadata": {},
   "outputs": [],
   "source": [
    "import random\n",
    "tr_buck0_num =  int(np.mean([sum(train_df[\"is_qn_buck\"]==key) for key in train_df[\"is_qn_buck\"].unique() if key != 0]))\n",
    "val_buck0_num = int(np.mean([sum(valid_df[\"is_qn_buck\"]==key) for key in valid_df[\"is_qn_buck\"].unique() if key != 0]))"
   ]
  },
  {
   "cell_type": "code",
   "execution_count": 16,
   "id": "2464de6c",
   "metadata": {},
   "outputs": [
    {
     "name": "stdout",
     "output_type": "stream",
     "text": [
      "3589\n"
     ]
    }
   ],
   "source": [
    "print(tr_buck0_num)"
   ]
  },
  {
   "cell_type": "code",
   "execution_count": 17,
   "id": "18df10f1",
   "metadata": {},
   "outputs": [],
   "source": [
    "tr_buckid0 = train_df.index[train_df['is_qn_buck'] == 0]\n",
    "tr_selected_buck0 = random.sample(train_df.index[train_df['is_qn_buck'] == 0].tolist(), tr_buck0_num)\n",
    "tr_rm_buck0 = list(set(tr_buckid0)-set(tr_selected_buck0))\n",
    "val_buckid0 = valid_df.index[valid_df['is_qn_buck'] == 0].tolist()\n",
    "val_selected_buck0 = random.sample(valid_df.index[valid_df['is_qn_buck'] == 0].tolist(), val_buck0_num)\n",
    "val_rm_buck0 = list(set(val_buckid0)-set(val_selected_buck0))"
   ]
  },
  {
   "cell_type": "code",
   "execution_count": 18,
   "id": "069fad9e",
   "metadata": {},
   "outputs": [
    {
     "name": "stdout",
     "output_type": "stream",
     "text": [
      "before (65719, 7)\n",
      "after (39485, 7)\n"
     ]
    }
   ],
   "source": [
    "print(\"before\", train_df.shape)\n",
    "train_df.drop(tr_rm_buck0, inplace=True)\n",
    "valid_df.drop(val_rm_buck0, inplace=True)\n",
    "print(\"after\", train_df.shape)"
   ]
  },
  {
   "cell_type": "code",
   "execution_count": 19,
   "id": "ec5d514b",
   "metadata": {},
   "outputs": [
    {
     "data": {
      "text/plain": [
       "<AxesSubplot:xlabel='is_qn_buck', ylabel='count'>"
      ]
     },
     "execution_count": 19,
     "metadata": {},
     "output_type": "execute_result"
    },
    {
     "data": {
      "image/png": "[encoded data removed]",
      "text/plain": [
       "<Figure size 432x288 with 1 Axes>"
      ]
     },
     "metadata": {
      "needs_background": "light"
     },
     "output_type": "display_data"
    }
   ],
   "source": [
    "import seaborn as sns\n",
    "sns.countplot(x=\"is_qn_buck\", data=train_df)"
   ]
  },
  {
   "cell_type": "code",
   "execution_count": 20,
   "id": "47b81239",
   "metadata": {},
   "outputs": [
    {
     "data": {
      "text/plain": [
       "<AxesSubplot:xlabel='is_qn_buck', ylabel='count'>"
      ]
     },
     "execution_count": 20,
     "metadata": {},
     "output_type": "execute_result"
    },
    {
     "data": {
      "image/png": "[encoded data removed]",
      "text/plain": [
       "<Figure size 432x288 with 1 Axes>"
      ]
     },
     "metadata": {
      "needs_background": "light"
     },
     "output_type": "display_data"
    }
   ],
   "source": [
    "sns.countplot(x=\"is_qn_buck\", data=test_df)"
   ]
  },
  {
   "cell_type": "code",
   "execution_count": 21,
   "id": "19abd479",
   "metadata": {},
   "outputs": [],
   "source": [
    "df_all = {\n",
    "    \"train\": train_df,\n",
    "    \"valid\": valid_df,\n",
    "    \"test\": test_df\n",
    "    }"
   ]
  },
  {
   "cell_type": "code",
   "execution_count": 22,
   "id": "07060a42",
   "metadata": {},
   "outputs": [],
   "source": [
    "# for split in [\"train\", \"valid\", \"test\"]:\n",
    "#     df_all[split].to_csv(f'./data/reduced_msc_bucket{buck_num}_{split}.csv')"
   ]
  },
  {
   "cell_type": "code",
   "execution_count": null,
   "id": "725f608f",
   "metadata": {},
   "outputs": [],
   "source": []
  },
  {
   "cell_type": "markdown",
   "id": "6a75ad5e",
   "metadata": {},
   "source": [
    "# Generate context"
   ]
  },
  {
   "cell_type": "code",
   "execution_count": 23,
   "id": "f89c82fa",
   "metadata": {},
   "outputs": [
    {
     "name": "stdout",
     "output_type": "stream",
     "text": [
      "['<V0>', '<V1>', '<V2>', '<V3>', '<V4>', '<V5>', '<V6>', '<V7>', '<V8>', '<V9>', '<V10>', '<history>', '<persona>', '<agent>', '<user>']\n"
     ]
    }
   ],
   "source": [
    "special_toks = {k: f\"<V{k}>\" for k in range(11)}\n",
    "special_tok_list = [v for k, v in special_toks.items()]\n",
    "special_tok_list.extend([\"<history>\", \"<persona>\", \"<agent>\", \"<user>\"])\n",
    "print(special_tok_list)"
   ]
  },
  {
   "cell_type": "markdown",
   "id": "916528f1",
   "metadata": {},
   "source": [
    "## load stored dataset"
   ]
  },
  {
   "cell_type": "code",
   "execution_count": 24,
   "id": "8aa7197b",
   "metadata": {},
   "outputs": [
    {
     "name": "stdout",
     "output_type": "stream",
     "text": [
      "10\n"
     ]
    }
   ],
   "source": [
    "print(buck_num)"
   ]
  },
  {
   "cell_type": "code",
   "execution_count": 25,
   "id": "1341862a",
   "metadata": {},
   "outputs": [],
   "source": [
    "df_all = {}\n",
    "for split in [\"train\", \"valid\", \"test\"]:\n",
    "    df_all[split] = pd.read_csv(f'./data/reduced_msc_bucket{buck_num}_{split}.csv', index_col=0)"
   ]
  },
  {
   "cell_type": "code",
   "execution_count": 26,
   "id": "95daac13",
   "metadata": {},
   "outputs": [
    {
     "data": {
      "text/html": [
       "<div>\n",
       "<style scoped>\n",
       "    .dataframe tbody tr th:only-of-type {\n",
       "        vertical-align: middle;\n",
       "    }\n",
       "\n",
       "    .dataframe tbody tr th {\n",
       "        vertical-align: top;\n",
       "    }\n",
       "\n",
       "    .dataframe thead th {\n",
       "        text-align: right;\n",
       "    }\n",
       "</style>\n",
       "<table border=\"1\" class=\"dataframe\">\n",
       "  <thead>\n",
       "    <tr style=\"text-align: right;\">\n",
       "      <th></th>\n",
       "      <th>session</th>\n",
       "      <th>history</th>\n",
       "      <th>user_persona</th>\n",
       "      <th>agent_persona</th>\n",
       "      <th>response</th>\n",
       "      <th>is_qn</th>\n",
       "      <th>is_qn_buck</th>\n",
       "    </tr>\n",
       "  </thead>\n",
       "  <tbody>\n",
       "    <tr>\n",
       "      <th>0</th>\n",
       "      <td>session_1</td>\n",
       "      <td>&lt;user&gt; hi , how are you doing ? i am getting r...</td>\n",
       "      <td>i like canning and whittling . to stay in shap...</td>\n",
       "      <td>i like to remodel homes . i like to go hunting...</td>\n",
       "      <td>you must be very fast . hunting is one of my f...</td>\n",
       "      <td>False</td>\n",
       "      <td>4</td>\n",
       "    </tr>\n",
       "    <tr>\n",
       "      <th>2</th>\n",
       "      <td>session_1</td>\n",
       "      <td>&lt;user&gt; hi , how are you doing ? i am getting r...</td>\n",
       "      <td>i like canning and whittling . to stay in shap...</td>\n",
       "      <td>i like to remodel homes . i like to go hunting...</td>\n",
       "      <td>that is awesome . do you have a favorite seaso...</td>\n",
       "      <td>True</td>\n",
       "      <td>6</td>\n",
       "    </tr>\n",
       "    <tr>\n",
       "      <th>3</th>\n",
       "      <td>session_1</td>\n",
       "      <td>&lt;user&gt; hi , how are you doing ? i am getting r...</td>\n",
       "      <td>i like canning and whittling . to stay in shap...</td>\n",
       "      <td>i like to remodel homes . i like to go hunting...</td>\n",
       "      <td>what is your favorite meat to eat ?</td>\n",
       "      <td>True</td>\n",
       "      <td>6</td>\n",
       "    </tr>\n",
       "    <tr>\n",
       "      <th>4</th>\n",
       "      <td>session_1</td>\n",
       "      <td>&lt;user&gt; hi , how are you doing ? i am getting r...</td>\n",
       "      <td>i like canning and whittling . to stay in shap...</td>\n",
       "      <td>i like to remodel homes . i like to go hunting...</td>\n",
       "      <td>i like chicken or macaroni and cheese .</td>\n",
       "      <td>False</td>\n",
       "      <td>0</td>\n",
       "    </tr>\n",
       "    <tr>\n",
       "      <th>5</th>\n",
       "      <td>session_1</td>\n",
       "      <td>&lt;user&gt; hi , how are you doing ? i am getting r...</td>\n",
       "      <td>i like canning and whittling . to stay in shap...</td>\n",
       "      <td>i like to remodel homes . i like to go hunting...</td>\n",
       "      <td>i am going to watch football . what are you ca...</td>\n",
       "      <td>True</td>\n",
       "      <td>8</td>\n",
       "    </tr>\n",
       "  </tbody>\n",
       "</table>\n",
       "</div>"
      ],
      "text/plain": [
       "     session                                            history  \\\n",
       "0  session_1  <user> hi , how are you doing ? i am getting r...   \n",
       "2  session_1  <user> hi , how are you doing ? i am getting r...   \n",
       "3  session_1  <user> hi , how are you doing ? i am getting r...   \n",
       "4  session_1  <user> hi , how are you doing ? i am getting r...   \n",
       "5  session_1  <user> hi , how are you doing ? i am getting r...   \n",
       "\n",
       "                                        user_persona  \\\n",
       "0  i like canning and whittling . to stay in shap...   \n",
       "2  i like canning and whittling . to stay in shap...   \n",
       "3  i like canning and whittling . to stay in shap...   \n",
       "4  i like canning and whittling . to stay in shap...   \n",
       "5  i like canning and whittling . to stay in shap...   \n",
       "\n",
       "                                       agent_persona  \\\n",
       "0  i like to remodel homes . i like to go hunting...   \n",
       "2  i like to remodel homes . i like to go hunting...   \n",
       "3  i like to remodel homes . i like to go hunting...   \n",
       "4  i like to remodel homes . i like to go hunting...   \n",
       "5  i like to remodel homes . i like to go hunting...   \n",
       "\n",
       "                                            response  is_qn  is_qn_buck  \n",
       "0  you must be very fast . hunting is one of my f...  False           4  \n",
       "2  that is awesome . do you have a favorite seaso...   True           6  \n",
       "3                what is your favorite meat to eat ?   True           6  \n",
       "4            i like chicken or macaroni and cheese .  False           0  \n",
       "5  i am going to watch football . what are you ca...   True           8  "
      ]
     },
     "execution_count": 26,
     "metadata": {},
     "output_type": "execute_result"
    }
   ],
   "source": [
    "df_all[\"train\"].head(5)"
   ]
  },
  {
   "cell_type": "code",
   "execution_count": null,
   "id": "e6e4c149",
   "metadata": {},
   "outputs": [],
   "source": []
  },
  {
   "cell_type": "markdown",
   "id": "635579c8",
   "metadata": {},
   "source": [
    "### Truncate history and persona"
   ]
  },
  {
   "cell_type": "code",
   "execution_count": 27,
   "id": "58f64f05",
   "metadata": {},
   "outputs": [],
   "source": [
    "def truncate_history(data, max_hist_len=360):\n",
    "    if len(data.split())>max_hist_len:\n",
    "        data = \" \".join(data.split()[-max_hist_len:])\n",
    "    return data\n",
    "\n",
    "def truncate_persona(data, max_prsn_len=140):\n",
    "    if len(data.split())>max_prsn_len:\n",
    "        data = \" \".join(data.split()[-max_prsn_len:])\n",
    "    return data"
   ]
  },
  {
   "cell_type": "code",
   "execution_count": 28,
   "id": "e61db07e",
   "metadata": {},
   "outputs": [],
   "source": [
    "for split in [\"train\", \"valid\", \"test\"]:\n",
    "    df_all[split][\"truncated_history\"] = df_all[split][\"history\"].apply(truncate_history)\n",
    "    df_all[split][\"truncated_agent_persona\"] = df_all[split][\"agent_persona\"].apply(truncate_persona)\n",
    "    df_all[split][\"truncated_user_persona\"] = df_all[split][\"user_persona\"].apply(truncate_persona)"
   ]
  },
  {
   "cell_type": "code",
   "execution_count": 29,
   "id": "c6ac1faa",
   "metadata": {},
   "outputs": [
    {
     "data": {
      "text/html": [
       "<div>\n",
       "<style scoped>\n",
       "    .dataframe tbody tr th:only-of-type {\n",
       "        vertical-align: middle;\n",
       "    }\n",
       "\n",
       "    .dataframe tbody tr th {\n",
       "        vertical-align: top;\n",
       "    }\n",
       "\n",
       "    .dataframe thead th {\n",
       "        text-align: right;\n",
       "    }\n",
       "</style>\n",
       "<table border=\"1\" class=\"dataframe\">\n",
       "  <thead>\n",
       "    <tr style=\"text-align: right;\">\n",
       "      <th></th>\n",
       "      <th>session</th>\n",
       "      <th>history</th>\n",
       "      <th>user_persona</th>\n",
       "      <th>agent_persona</th>\n",
       "      <th>response</th>\n",
       "      <th>is_qn</th>\n",
       "      <th>is_qn_buck</th>\n",
       "      <th>truncated_history</th>\n",
       "      <th>truncated_agent_persona</th>\n",
       "      <th>truncated_user_persona</th>\n",
       "    </tr>\n",
       "  </thead>\n",
       "  <tbody>\n",
       "    <tr>\n",
       "      <th>0</th>\n",
       "      <td>session_1</td>\n",
       "      <td>&lt;user&gt; hi , how are you doing ? i am getting r...</td>\n",
       "      <td>i like canning and whittling . to stay in shap...</td>\n",
       "      <td>i like to remodel homes . i like to go hunting...</td>\n",
       "      <td>you must be very fast . hunting is one of my f...</td>\n",
       "      <td>False</td>\n",
       "      <td>4</td>\n",
       "      <td>&lt;user&gt; hi , how are you doing ? i am getting r...</td>\n",
       "      <td>i like to remodel homes . i like to go hunting...</td>\n",
       "      <td>i like canning and whittling . to stay in shap...</td>\n",
       "    </tr>\n",
       "    <tr>\n",
       "      <th>2</th>\n",
       "      <td>session_1</td>\n",
       "      <td>&lt;user&gt; hi , how are you doing ? i am getting r...</td>\n",
       "      <td>i like canning and whittling . to stay in shap...</td>\n",
       "      <td>i like to remodel homes . i like to go hunting...</td>\n",
       "      <td>that is awesome . do you have a favorite seaso...</td>\n",
       "      <td>True</td>\n",
       "      <td>6</td>\n",
       "      <td>&lt;user&gt; hi , how are you doing ? i am getting r...</td>\n",
       "      <td>i like to remodel homes . i like to go hunting...</td>\n",
       "      <td>i like canning and whittling . to stay in shap...</td>\n",
       "    </tr>\n",
       "    <tr>\n",
       "      <th>3</th>\n",
       "      <td>session_1</td>\n",
       "      <td>&lt;user&gt; hi , how are you doing ? i am getting r...</td>\n",
       "      <td>i like canning and whittling . to stay in shap...</td>\n",
       "      <td>i like to remodel homes . i like to go hunting...</td>\n",
       "      <td>what is your favorite meat to eat ?</td>\n",
       "      <td>True</td>\n",
       "      <td>6</td>\n",
       "      <td>&lt;user&gt; hi , how are you doing ? i am getting r...</td>\n",
       "      <td>i like to remodel homes . i like to go hunting...</td>\n",
       "      <td>i like canning and whittling . to stay in shap...</td>\n",
       "    </tr>\n",
       "  </tbody>\n",
       "</table>\n",
       "</div>"
      ],
      "text/plain": [
       "     session                                            history  \\\n",
       "0  session_1  <user> hi , how are you doing ? i am getting r...   \n",
       "2  session_1  <user> hi , how are you doing ? i am getting r...   \n",
       "3  session_1  <user> hi , how are you doing ? i am getting r...   \n",
       "\n",
       "                                        user_persona  \\\n",
       "0  i like canning and whittling . to stay in shap...   \n",
       "2  i like canning and whittling . to stay in shap...   \n",
       "3  i like canning and whittling . to stay in shap...   \n",
       "\n",
       "                                       agent_persona  \\\n",
       "0  i like to remodel homes . i like to go hunting...   \n",
       "2  i like to remodel homes . i like to go hunting...   \n",
       "3  i like to remodel homes . i like to go hunting...   \n",
       "\n",
       "                                            response  is_qn  is_qn_buck  \\\n",
       "0  you must be very fast . hunting is one of my f...  False           4   \n",
       "2  that is awesome . do you have a favorite seaso...   True           6   \n",
       "3                what is your favorite meat to eat ?   True           6   \n",
       "\n",
       "                                   truncated_history  \\\n",
       "0  <user> hi , how are you doing ? i am getting r...   \n",
       "2  <user> hi , how are you doing ? i am getting r...   \n",
       "3  <user> hi , how are you doing ? i am getting r...   \n",
       "\n",
       "                             truncated_agent_persona  \\\n",
       "0  i like to remodel homes . i like to go hunting...   \n",
       "2  i like to remodel homes . i like to go hunting...   \n",
       "3  i like to remodel homes . i like to go hunting...   \n",
       "\n",
       "                              truncated_user_persona  \n",
       "0  i like canning and whittling . to stay in shap...  \n",
       "2  i like canning and whittling . to stay in shap...  \n",
       "3  i like canning and whittling . to stay in shap...  "
      ]
     },
     "execution_count": 29,
     "metadata": {},
     "output_type": "execute_result"
    }
   ],
   "source": [
    "df_all[\"train\"].head(3)"
   ]
  },
  {
   "cell_type": "markdown",
   "id": "61f37f34",
   "metadata": {},
   "source": [
    "### Create input sequence for each setting"
   ]
  },
  {
   "cell_type": "code",
   "execution_count": 30,
   "id": "0ecac216",
   "metadata": {},
   "outputs": [],
   "source": [
    "def gen_context_hist_and_agent(history, aprsn):\n",
    "     return(f\"<history> {history} <persona> {aprsn}\")\n",
    "\n",
    "def gen_qn_feat_code_with_agent(history, aprsn, buck):\n",
    "     return(f\"{special_toks[buck]} <history> {history} <persona> {aprsn}\")\n",
    "\n",
    "def gen_qn_prompt_with_agent(history, aprsn, buck):\n",
    "     return(f\" Generate a question style response by {special_toks[buck]} <history> \" + \n",
    "            history + \" <persona> \" + aprsn)"
   ]
  },
  {
   "cell_type": "code",
   "execution_count": 31,
   "id": "819d500b",
   "metadata": {},
   "outputs": [
    {
     "data": {
      "text/plain": [
       "Index(['session', 'history', 'user_persona', 'agent_persona', 'response',\n",
       "       'is_qn', 'is_qn_buck', 'truncated_history', 'truncated_agent_persona',\n",
       "       'truncated_user_persona'],\n",
       "      dtype='object')"
      ]
     },
     "execution_count": 31,
     "metadata": {},
     "output_type": "execute_result"
    }
   ],
   "source": [
    "df_all[\"train\"].columns"
   ]
  },
  {
   "cell_type": "code",
   "execution_count": 32,
   "id": "3b34045f",
   "metadata": {},
   "outputs": [],
   "source": [
    "for split in [\"train\", \"valid\", \"test\"]:\n",
    "    df_all[split][\"history_agent_persona\"] = df_all[split].apply(lambda x: gen_context_hist_and_agent(\n",
    "                                                                        x[\"truncated_history\"],\n",
    "                                                                        x[\"truncated_agent_persona\"]), axis=1)\n",
    "    df_all[split][\"qn_featCode_agent\"] = df_all[split].apply(lambda x: gen_qn_feat_code_with_agent(\n",
    "                                                                        x[\"truncated_history\"],\n",
    "                                                                        x[\"truncated_agent_persona\"],\n",
    "                                                                        x[\"is_qn_buck\"]), axis=1)\n",
    "    df_all[split][\"qn_prompt_agent\"] = df_all[split].apply(lambda x: gen_qn_prompt_with_agent(\n",
    "                                                                        x[\"truncated_history\"], \n",
    "                                                                        x[\"truncated_agent_persona\"],\n",
    "                                                                        x[\"is_qn_buck\"]), axis=1)"
   ]
  },
  {
   "cell_type": "code",
   "execution_count": 33,
   "id": "f4eb9c49",
   "metadata": {},
   "outputs": [
    {
     "data": {
      "text/html": [
       "<div>\n",
       "<style scoped>\n",
       "    .dataframe tbody tr th:only-of-type {\n",
       "        vertical-align: middle;\n",
       "    }\n",
       "\n",
       "    .dataframe tbody tr th {\n",
       "        vertical-align: top;\n",
       "    }\n",
       "\n",
       "    .dataframe thead th {\n",
       "        text-align: right;\n",
       "    }\n",
       "</style>\n",
       "<table border=\"1\" class=\"dataframe\">\n",
       "  <thead>\n",
       "    <tr style=\"text-align: right;\">\n",
       "      <th></th>\n",
       "      <th>session</th>\n",
       "      <th>history</th>\n",
       "      <th>user_persona</th>\n",
       "      <th>agent_persona</th>\n",
       "      <th>response</th>\n",
       "      <th>is_qn</th>\n",
       "      <th>is_qn_buck</th>\n",
       "      <th>truncated_history</th>\n",
       "      <th>truncated_agent_persona</th>\n",
       "      <th>truncated_user_persona</th>\n",
       "      <th>history_agent_persona</th>\n",
       "      <th>qn_featCode_agent</th>\n",
       "      <th>qn_prompt_agent</th>\n",
       "    </tr>\n",
       "  </thead>\n",
       "  <tbody>\n",
       "    <tr>\n",
       "      <th>0</th>\n",
       "      <td>session_1</td>\n",
       "      <td>&lt;user&gt; hi , how are you doing ? i am getting r...</td>\n",
       "      <td>i like canning and whittling . to stay in shap...</td>\n",
       "      <td>i like to remodel homes . i like to go hunting...</td>\n",
       "      <td>you must be very fast . hunting is one of my f...</td>\n",
       "      <td>False</td>\n",
       "      <td>4</td>\n",
       "      <td>&lt;user&gt; hi , how are you doing ? i am getting r...</td>\n",
       "      <td>i like to remodel homes . i like to go hunting...</td>\n",
       "      <td>i like canning and whittling . to stay in shap...</td>\n",
       "      <td>&lt;history&gt; &lt;user&gt; hi , how are you doing ? i am...</td>\n",
       "      <td>&lt;V4&gt; &lt;history&gt; &lt;user&gt; hi , how are you doing ?...</td>\n",
       "      <td>Generate a question style response by &lt;V4&gt; &lt;h...</td>\n",
       "    </tr>\n",
       "    <tr>\n",
       "      <th>2</th>\n",
       "      <td>session_1</td>\n",
       "      <td>&lt;user&gt; hi , how are you doing ? i am getting r...</td>\n",
       "      <td>i like canning and whittling . to stay in shap...</td>\n",
       "      <td>i like to remodel homes . i like to go hunting...</td>\n",
       "      <td>that is awesome . do you have a favorite seaso...</td>\n",
       "      <td>True</td>\n",
       "      <td>6</td>\n",
       "      <td>&lt;user&gt; hi , how are you doing ? i am getting r...</td>\n",
       "      <td>i like to remodel homes . i like to go hunting...</td>\n",
       "      <td>i like canning and whittling . to stay in shap...</td>\n",
       "      <td>&lt;history&gt; &lt;user&gt; hi , how are you doing ? i am...</td>\n",
       "      <td>&lt;V6&gt; &lt;history&gt; &lt;user&gt; hi , how are you doing ?...</td>\n",
       "      <td>Generate a question style response by &lt;V6&gt; &lt;h...</td>\n",
       "    </tr>\n",
       "    <tr>\n",
       "      <th>3</th>\n",
       "      <td>session_1</td>\n",
       "      <td>&lt;user&gt; hi , how are you doing ? i am getting r...</td>\n",
       "      <td>i like canning and whittling . to stay in shap...</td>\n",
       "      <td>i like to remodel homes . i like to go hunting...</td>\n",
       "      <td>what is your favorite meat to eat ?</td>\n",
       "      <td>True</td>\n",
       "      <td>6</td>\n",
       "      <td>&lt;user&gt; hi , how are you doing ? i am getting r...</td>\n",
       "      <td>i like to remodel homes . i like to go hunting...</td>\n",
       "      <td>i like canning and whittling . to stay in shap...</td>\n",
       "      <td>&lt;history&gt; &lt;user&gt; hi , how are you doing ? i am...</td>\n",
       "      <td>&lt;V6&gt; &lt;history&gt; &lt;user&gt; hi , how are you doing ?...</td>\n",
       "      <td>Generate a question style response by &lt;V6&gt; &lt;h...</td>\n",
       "    </tr>\n",
       "  </tbody>\n",
       "</table>\n",
       "</div>"
      ],
      "text/plain": [
       "     session                                            history  \\\n",
       "0  session_1  <user> hi , how are you doing ? i am getting r...   \n",
       "2  session_1  <user> hi , how are you doing ? i am getting r...   \n",
       "3  session_1  <user> hi , how are you doing ? i am getting r...   \n",
       "\n",
       "                                        user_persona  \\\n",
       "0  i like canning and whittling . to stay in shap...   \n",
       "2  i like canning and whittling . to stay in shap...   \n",
       "3  i like canning and whittling . to stay in shap...   \n",
       "\n",
       "                                       agent_persona  \\\n",
       "0  i like to remodel homes . i like to go hunting...   \n",
       "2  i like to remodel homes . i like to go hunting...   \n",
       "3  i like to remodel homes . i like to go hunting...   \n",
       "\n",
       "                                            response  is_qn  is_qn_buck  \\\n",
       "0  you must be very fast . hunting is one of my f...  False           4   \n",
       "2  that is awesome . do you have a favorite seaso...   True           6   \n",
       "3                what is your favorite meat to eat ?   True           6   \n",
       "\n",
       "                                   truncated_history  \\\n",
       "0  <user> hi , how are you doing ? i am getting r...   \n",
       "2  <user> hi , how are you doing ? i am getting r...   \n",
       "3  <user> hi , how are you doing ? i am getting r...   \n",
       "\n",
       "                             truncated_agent_persona  \\\n",
       "0  i like to remodel homes . i like to go hunting...   \n",
       "2  i like to remodel homes . i like to go hunting...   \n",
       "3  i like to remodel homes . i like to go hunting...   \n",
       "\n",
       "                              truncated_user_persona  \\\n",
       "0  i like canning and whittling . to stay in shap...   \n",
       "2  i like canning and whittling . to stay in shap...   \n",
       "3  i like canning and whittling . to stay in shap...   \n",
       "\n",
       "                               history_agent_persona  \\\n",
       "0  <history> <user> hi , how are you doing ? i am...   \n",
       "2  <history> <user> hi , how are you doing ? i am...   \n",
       "3  <history> <user> hi , how are you doing ? i am...   \n",
       "\n",
       "                                   qn_featCode_agent  \\\n",
       "0  <V4> <history> <user> hi , how are you doing ?...   \n",
       "2  <V6> <history> <user> hi , how are you doing ?...   \n",
       "3  <V6> <history> <user> hi , how are you doing ?...   \n",
       "\n",
       "                                     qn_prompt_agent  \n",
       "0   Generate a question style response by <V4> <h...  \n",
       "2   Generate a question style response by <V6> <h...  \n",
       "3   Generate a question style response by <V6> <h...  "
      ]
     },
     "execution_count": 33,
     "metadata": {},
     "output_type": "execute_result"
    }
   ],
   "source": [
    "df_all[\"train\"].head(3)"
   ]
  },
  {
   "cell_type": "code",
   "execution_count": 34,
   "id": "d4402cc4",
   "metadata": {},
   "outputs": [],
   "source": [
    "for split in [\"train\", \"valid\", \"test\"]:\n",
    "    df_all[split].to_csv(f'./data/reduced_msc_bucket{buck_num}_{split}.csv')"
   ]
  },
  {
   "cell_type": "code",
   "execution_count": null,
   "id": "39e9e800",
   "metadata": {},
   "outputs": [],
   "source": []
  },
  {
   "cell_type": "code",
   "execution_count": null,
   "id": "04df3740",
   "metadata": {},
   "outputs": [],
   "source": []
  }
 ],
 "metadata": {
  "kernelspec": {
   "display_name": "Python 3",
   "language": "python",
   "name": "python3"
  },
  "language_info": {
   "codemirror_mode": {
    "name": "ipython",
    "version": 3
   },
   "file_extension": ".py",
   "mimetype": "text/x-python",
   "name": "python",
   "nbconvert_exporter": "python",
   "pygments_lexer": "ipython3",
   "version": "3.7.10"
  }
 },
 "nbformat": 4,
 "nbformat_minor": 5
}
